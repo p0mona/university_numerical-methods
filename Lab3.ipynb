{
  "nbformat": 4,
  "nbformat_minor": 0,
  "metadata": {
    "colab": {
      "provenance": []
    },
    "kernelspec": {
      "name": "python3",
      "display_name": "Python 3"
    },
    "language_info": {
      "name": "python"
    }
  },
  "cells": [
    {
      "cell_type": "code",
      "execution_count": 1,
      "metadata": {
        "colab": {
          "base_uri": "https://localhost:8080/"
        },
        "id": "lcwqVrfyIkeK",
        "outputId": "5e11d2ae-048e-44f9-bbf1-2bd0aee91a48"
      },
      "outputs": [
        {
          "output_type": "stream",
          "name": "stdout",
          "text": [
            "Bisection method: root = 1.8954963684082031, number of iterations = 17\n",
            "Newton's method: root = 1.8954942670339812, number of iterations = 4\n",
            "The secant method: root = 1.895494266655171, number of iterations = 5\n"
          ]
        }
      ],
      "source": [
        "\n",
        "import numpy as np\n",
        "\n",
        "def function(x):\n",
        "  return np.sin(x) - x/2\n",
        "\n",
        "def df(x):\n",
        "  return np.cos(x) - 1/2\n",
        "\n",
        "a = 1\n",
        "b = 2\n",
        "eps = 1e-5\n",
        "x0_newton = 1.5\n",
        "x0_secant = 1\n",
        "x1_secant = 2\n",
        "max_iter = 1000\n",
        "\n",
        "def bisection(a, b, eps):\n",
        "  i = 0\n",
        "\n",
        "  if function(a) * function(b) > 0:\n",
        "    return ValueError (\"function(a) and function(b) must have opposite signs\")\n",
        "\n",
        "  while (b - a) >= eps:\n",
        "    center = a + (b - a) / 2\n",
        "\n",
        "    if function(center) == 0:\n",
        "      return center\n",
        "    elif function(a) * function(center) < 0:\n",
        "      b = center\n",
        "    else:\n",
        "      a = center\n",
        "\n",
        "    i += 1\n",
        "\n",
        "  return (a + b) / 2, i\n",
        "\n",
        "bisection_result, bisection_iter = bisection(a, b, eps)\n",
        "print(f\"Bisection method: root = {bisection_result}, number of iterations = {bisection_iter}\")\n",
        "\n",
        "\n",
        "def newton(x0, eps, max_iter):\n",
        "  i = 0\n",
        "\n",
        "  while i < max_iter:\n",
        "    if df(x0) == 0:\n",
        "      return ValueError(\"The derivative is equal to zero, Newton's method cannot be used\")\n",
        "\n",
        "    x1 = x0 - function(x0) / df(x0)\n",
        "\n",
        "    if abs(x1 - x0) < eps:\n",
        "      return x1, i\n",
        "\n",
        "    x0 = x1\n",
        "    i += 1\n",
        "\n",
        "newton_result, newton_iter = newton(x0_newton, eps, max_iter)\n",
        "print(f\"Newton's method: root = {newton_result}, number of iterations = {newton_iter}\")\n",
        "\n",
        "\n",
        "def secant(x0, x1, eps, max_iter):\n",
        "  i =  0\n",
        "\n",
        "  if df(x0) == 0:\n",
        "      return ValueError(\"The derivative is equal to zero, the secant method cannot be used\")\n",
        "\n",
        "  while i < 1000:\n",
        "    x2 = x1 - function(x1) * (x1 - x0) / (function(x1) - function(x0))\n",
        "    i += 1\n",
        "\n",
        "    if abs(x2 - x1) < eps:\n",
        "      return x2, i\n",
        "\n",
        "    x0 = x1\n",
        "    x1 = x2\n",
        "\n",
        "secant_result, secant_iter = secant(x0_secant, x1_secant, eps, max_iter)\n",
        "print(f\"The secant method: root = {secant_result}, number of iterations = {secant_iter}\")"
      ]
    }
  ]
}