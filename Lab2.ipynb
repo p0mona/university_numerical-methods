{
  "nbformat": 4,
  "nbformat_minor": 0,
  "metadata": {
    "colab": {
      "provenance": []
    },
    "kernelspec": {
      "name": "python3",
      "display_name": "Python 3"
    },
    "language_info": {
      "name": "python"
    }
  },
  "cells": [
    {
      "cell_type": "code",
      "execution_count": 1,
      "metadata": {
        "colab": {
          "base_uri": "https://localhost:8080/"
        },
        "id": "1gbL4_NfHZdX",
        "outputId": "9015001a-ce20-4d3d-91e7-124d3e992826"
      },
      "outputs": [
        {
          "output_type": "stream",
          "name": "stdout",
          "text": [
            "[2.36363636 1.09090909]\n",
            "True\n"
          ]
        }
      ],
      "source": [
        "import numpy as np\n",
        "\n",
        "#initialize matrix A and vector b\n",
        "A = np.array([\n",
        "    [2, 3],\n",
        "    [1, -4]], dtype = float\n",
        ")\n",
        "\n",
        "b = np.array(\n",
        "    [8, -2], dtype = float\n",
        ")\n",
        "\n",
        "#we combine A and b into an augmented matrix\n",
        "Ab = np.hstack((A, b.reshape(-1, 1)))\n",
        "\n",
        "#Gaussian elimination\n",
        "def gauss_elimination(Ab):\n",
        "  n = len(Ab)\n",
        "\n",
        "  for i in range(n-1):\n",
        "    for j in range(i + 1, n):\n",
        "      factor = Ab[j, i] / Ab[i, i]\n",
        "      Ab[j, i:] -= factor * Ab[i, i:]\n",
        "\n",
        "  return Ab\n",
        "\n",
        "#backward substitution function\n",
        "def backward_substitution(Ab):\n",
        "  n = len(Ab)\n",
        "  x = np.zeros(n)\n",
        "\n",
        "  for i in range(n - 1, -1, -1):\n",
        "    s = 0\n",
        "    for j in range(i + 1, n):\n",
        "      s += Ab[i, j] * x[j]\n",
        "    x[i] = (Ab[i, -1] - s) / Ab[i, i]\n",
        "  return x\n",
        "\n",
        "\n",
        "#Function to check solution\n",
        "def check_solution(x):\n",
        "\n",
        "  Ax = np.dot(A, x)\n",
        "  return np.allclose(Ax, b)\n",
        "\n",
        "Ab = gauss_elimination(Ab)\n",
        "x = backward_substitution(Ab)\n",
        "print (x)\n",
        "print(check_solution(x))\n"
      ]
    }
  ]
}