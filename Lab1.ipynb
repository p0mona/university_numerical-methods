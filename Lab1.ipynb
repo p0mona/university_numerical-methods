{
  "nbformat": 4,
  "nbformat_minor": 0,
  "metadata": {
    "colab": {
      "provenance": []
    },
    "kernelspec": {
      "name": "python3",
      "display_name": "Python 3"
    },
    "language_info": {
      "name": "python"
    }
  },
  "cells": [
    {
      "cell_type": "code",
      "execution_count": 2,
      "metadata": {
        "id": "8kEbDgvJuS92"
      },
      "outputs": [],
      "source": [
        "import numpy as np"
      ]
    },
    {
      "cell_type": "code",
      "source": [
        "\n",
        "np.pi"
      ],
      "metadata": {
        "colab": {
          "base_uri": "https://localhost:8080/"
        },
        "id": "jOYTl4_1uXsd",
        "outputId": "6dd3db64-fe48-4224-c3c7-de946cf4f18c"
      },
      "execution_count": 3,
      "outputs": [
        {
          "output_type": "execute_result",
          "data": {
            "text/plain": [
              "3.141592653589793"
            ]
          },
          "metadata": {},
          "execution_count": 3
        }
      ]
    },
    {
      "cell_type": "code",
      "source": [
        "np.finfo(np.float32).eps"
      ],
      "metadata": {
        "colab": {
          "base_uri": "https://localhost:8080/"
        },
        "id": "OcxxnWVKuX-N",
        "outputId": "c8112614-9c78-4d5f-e525-bd63b12b12bf"
      },
      "execution_count": 4,
      "outputs": [
        {
          "output_type": "execute_result",
          "data": {
            "text/plain": [
              "1.1920929e-07"
            ]
          },
          "metadata": {},
          "execution_count": 4
        }
      ]
    },
    {
      "cell_type": "code",
      "source": [
        "np.dtype(np.float32)"
      ],
      "metadata": {
        "colab": {
          "base_uri": "https://localhost:8080/"
        },
        "id": "OXHU7xhxuYM1",
        "outputId": "bad2c84e-caa3-4a00-8c9d-5be76181000e"
      },
      "execution_count": 5,
      "outputs": [
        {
          "output_type": "execute_result",
          "data": {
            "text/plain": [
              "dtype('float32')"
            ]
          },
          "metadata": {},
          "execution_count": 5
        }
      ]
    },
    {
      "cell_type": "code",
      "source": [
        "a = np.array([1., 2., 3.])"
      ],
      "metadata": {
        "id": "xb_QWCfAuwW1"
      },
      "execution_count": 6,
      "outputs": []
    },
    {
      "cell_type": "code",
      "source": [
        "a.dtype"
      ],
      "metadata": {
        "colab": {
          "base_uri": "https://localhost:8080/"
        },
        "id": "0-m0LgHpuwVF",
        "outputId": "b258eb4c-4e84-4e88-f757-b362a8d873fc"
      },
      "execution_count": 7,
      "outputs": [
        {
          "output_type": "execute_result",
          "data": {
            "text/plain": [
              "dtype('float64')"
            ]
          },
          "metadata": {},
          "execution_count": 7
        }
      ]
    },
    {
      "cell_type": "code",
      "source": [
        "b = np.array([\n",
        "    [2],\n",
        "    [3],\n",
        "    [4],\n",
        "])"
      ],
      "metadata": {
        "id": "3uZIGu6BuwTE"
      },
      "execution_count": 8,
      "outputs": []
    },
    {
      "cell_type": "code",
      "source": [
        "A = np.array([[1, 2, 3],\n",
        "             [4, 5, 6],\n",
        "             [7, 8, 9]])\n",
        "A"
      ],
      "metadata": {
        "colab": {
          "base_uri": "https://localhost:8080/"
        },
        "id": "XzfGzN-Fu7w1",
        "outputId": "92e4b378-9777-4cf0-bad3-a431488de520"
      },
      "execution_count": 9,
      "outputs": [
        {
          "output_type": "execute_result",
          "data": {
            "text/plain": [
              "array([[1, 2, 3],\n",
              "       [4, 5, 6],\n",
              "       [7, 8, 9]])"
            ]
          },
          "metadata": {},
          "execution_count": 9
        }
      ]
    },
    {
      "cell_type": "code",
      "source": [
        "B = np.array([[1, 7, 4],\n",
        "             [4, 8, 6],\n",
        "             [0, 8, 1]])\n",
        "B"
      ],
      "metadata": {
        "colab": {
          "base_uri": "https://localhost:8080/"
        },
        "id": "Iqajcl-Lu7vE",
        "outputId": "cca367fb-0608-43fe-e798-036c9d7e4d99"
      },
      "execution_count": 10,
      "outputs": [
        {
          "output_type": "execute_result",
          "data": {
            "text/plain": [
              "array([[1, 7, 4],\n",
              "       [4, 8, 6],\n",
              "       [0, 8, 1]])"
            ]
          },
          "metadata": {},
          "execution_count": 10
        }
      ]
    },
    {
      "cell_type": "code",
      "source": [
        "C = np.vstack((A, B))\n",
        "C"
      ],
      "metadata": {
        "colab": {
          "base_uri": "https://localhost:8080/"
        },
        "id": "a5Gr6ltDu7s9",
        "outputId": "3bfe363d-0c4a-4dcb-d425-28857432ae94"
      },
      "execution_count": 11,
      "outputs": [
        {
          "output_type": "execute_result",
          "data": {
            "text/plain": [
              "array([[1, 2, 3],\n",
              "       [4, 5, 6],\n",
              "       [7, 8, 9],\n",
              "       [1, 7, 4],\n",
              "       [4, 8, 6],\n",
              "       [0, 8, 1]])"
            ]
          },
          "metadata": {},
          "execution_count": 11
        }
      ]
    },
    {
      "cell_type": "code",
      "source": [
        "D = np.vstack((np.array([1, 2, 3]), B))\n",
        "D"
      ],
      "metadata": {
        "colab": {
          "base_uri": "https://localhost:8080/"
        },
        "id": "kvih54dou7pc",
        "outputId": "e3aead58-1965-461a-d79e-a3e931c26d84"
      },
      "execution_count": 12,
      "outputs": [
        {
          "output_type": "execute_result",
          "data": {
            "text/plain": [
              "array([[1, 2, 3],\n",
              "       [1, 7, 4],\n",
              "       [4, 8, 6],\n",
              "       [0, 8, 1]])"
            ]
          },
          "metadata": {},
          "execution_count": 12
        }
      ]
    },
    {
      "cell_type": "code",
      "source": [
        "D[0, 0] = 100\n",
        "D"
      ],
      "metadata": {
        "colab": {
          "base_uri": "https://localhost:8080/"
        },
        "id": "bSsQPasIuwRt",
        "outputId": "20de3371-ef7d-45b7-8e6f-a3abdb530a59"
      },
      "execution_count": 13,
      "outputs": [
        {
          "output_type": "execute_result",
          "data": {
            "text/plain": [
              "array([[100,   2,   3],\n",
              "       [  1,   7,   4],\n",
              "       [  4,   8,   6],\n",
              "       [  0,   8,   1]])"
            ]
          },
          "metadata": {},
          "execution_count": 13
        }
      ]
    },
    {
      "cell_type": "code",
      "source": [
        "D[1, 0] = 5 + D[0, 0]\n",
        "D"
      ],
      "metadata": {
        "colab": {
          "base_uri": "https://localhost:8080/"
        },
        "id": "6diX62rWvxx8",
        "outputId": "e56233c6-c19a-4618-95f3-5d1e406bed99"
      },
      "execution_count": 14,
      "outputs": [
        {
          "output_type": "execute_result",
          "data": {
            "text/plain": [
              "array([[100,   2,   3],\n",
              "       [105,   7,   4],\n",
              "       [  4,   8,   6],\n",
              "       [  0,   8,   1]])"
            ]
          },
          "metadata": {},
          "execution_count": 14
        }
      ]
    },
    {
      "cell_type": "code",
      "source": [
        "M = 5\n",
        "N = 5"
      ],
      "metadata": {
        "id": "ie1Fwp1LvxwR"
      },
      "execution_count": 15,
      "outputs": []
    },
    {
      "cell_type": "code",
      "source": [
        "A = np.zeros([M, N])\n",
        "A"
      ],
      "metadata": {
        "colab": {
          "base_uri": "https://localhost:8080/"
        },
        "id": "CIWRhXjgvxui",
        "outputId": "61f2e780-6eae-464d-9ac4-85b0125060ac"
      },
      "execution_count": 16,
      "outputs": [
        {
          "output_type": "execute_result",
          "data": {
            "text/plain": [
              "array([[0., 0., 0., 0., 0.],\n",
              "       [0., 0., 0., 0., 0.],\n",
              "       [0., 0., 0., 0., 0.],\n",
              "       [0., 0., 0., 0., 0.],\n",
              "       [0., 0., 0., 0., 0.]])"
            ]
          },
          "metadata": {},
          "execution_count": 16
        }
      ]
    },
    {
      "cell_type": "code",
      "source": [
        "A = np.ones([M, N])\n",
        "A"
      ],
      "metadata": {
        "colab": {
          "base_uri": "https://localhost:8080/"
        },
        "id": "dBDc26yOvxrC",
        "outputId": "f312fe33-2cac-4ad5-ec03-4e24d4aba787"
      },
      "execution_count": 17,
      "outputs": [
        {
          "output_type": "execute_result",
          "data": {
            "text/plain": [
              "array([[1., 1., 1., 1., 1.],\n",
              "       [1., 1., 1., 1., 1.],\n",
              "       [1., 1., 1., 1., 1.],\n",
              "       [1., 1., 1., 1., 1.],\n",
              "       [1., 1., 1., 1., 1.]])"
            ]
          },
          "metadata": {},
          "execution_count": 17
        }
      ]
    },
    {
      "cell_type": "code",
      "source": [
        "A = np.eye(M)\n",
        "A"
      ],
      "metadata": {
        "colab": {
          "base_uri": "https://localhost:8080/"
        },
        "id": "KsANqNV3wzEh",
        "outputId": "320fdd43-108d-4b01-c8cb-03827fbbbb25"
      },
      "execution_count": 18,
      "outputs": [
        {
          "output_type": "execute_result",
          "data": {
            "text/plain": [
              "array([[1., 0., 0., 0., 0.],\n",
              "       [0., 1., 0., 0., 0.],\n",
              "       [0., 0., 1., 0., 0.],\n",
              "       [0., 0., 0., 1., 0.],\n",
              "       [0., 0., 0., 0., 1.]])"
            ]
          },
          "metadata": {},
          "execution_count": 18
        }
      ]
    },
    {
      "cell_type": "code",
      "source": [
        "A = np.random.rand(M, N)\n",
        "A"
      ],
      "metadata": {
        "colab": {
          "base_uri": "https://localhost:8080/"
        },
        "id": "Q4uefJPBwzAm",
        "outputId": "815e631f-37b9-4e83-96e0-f2fc31f1f71f"
      },
      "execution_count": 19,
      "outputs": [
        {
          "output_type": "execute_result",
          "data": {
            "text/plain": [
              "array([[0.07277061, 0.70170875, 0.43916904, 0.3293553 , 0.39285032],\n",
              "       [0.75439721, 0.07142113, 0.65065048, 0.24471437, 0.26988008],\n",
              "       [0.85892548, 0.37459132, 0.77488124, 0.42891383, 0.47524094],\n",
              "       [0.89221179, 0.53806986, 0.35976509, 0.1009541 , 0.02674351],\n",
              "       [0.9549167 , 0.65172233, 0.50704747, 0.18699557, 0.05324039]])"
            ]
          },
          "metadata": {},
          "execution_count": 19
        }
      ]
    },
    {
      "cell_type": "code",
      "source": [
        "A = np.random.randn(M, N)\n",
        "A"
      ],
      "metadata": {
        "colab": {
          "base_uri": "https://localhost:8080/"
        },
        "id": "dx2eg9YJwy-W",
        "outputId": "7710295c-45a4-440a-c15a-9c38bb3f971f"
      },
      "execution_count": 20,
      "outputs": [
        {
          "output_type": "execute_result",
          "data": {
            "text/plain": [
              "array([[-1.85239764, -0.98866076,  0.60607295,  0.56652262,  0.16833085],\n",
              "       [ 0.26023673, -1.64330431, -0.22301168, -1.57235134,  0.20112785],\n",
              "       [ 2.37496635,  0.41808514, -0.41512898, -0.45425372, -0.11832604],\n",
              "       [ 0.29704301,  1.4714889 ,  1.28736894, -1.00427701, -0.28037456],\n",
              "       [ 0.48369322,  2.38773622, -0.76223192, -0.89806549, -0.4896663 ]])"
            ]
          },
          "metadata": {},
          "execution_count": 20
        }
      ]
    },
    {
      "cell_type": "code",
      "source": [
        "A = np.array([[1, 2, 3],\n",
        "             [4, 5, 6],\n",
        "             [7, 8, 9]])\n",
        "A"
      ],
      "metadata": {
        "colab": {
          "base_uri": "https://localhost:8080/"
        },
        "id": "wJ1IQkswxJLu",
        "outputId": "a7e19df1-d863-47f8-9c78-b054dc3b0f1e"
      },
      "execution_count": 21,
      "outputs": [
        {
          "output_type": "execute_result",
          "data": {
            "text/plain": [
              "array([[1, 2, 3],\n",
              "       [4, 5, 6],\n",
              "       [7, 8, 9]])"
            ]
          },
          "metadata": {},
          "execution_count": 21
        }
      ]
    },
    {
      "cell_type": "code",
      "source": [
        "A[:, [0, 2]] = A[:, [2, 0]]\n",
        "A"
      ],
      "metadata": {
        "colab": {
          "base_uri": "https://localhost:8080/"
        },
        "id": "vuoOilkDxJHm",
        "outputId": "08e132cd-3a3d-4d55-ca5f-f35c23334531"
      },
      "execution_count": 22,
      "outputs": [
        {
          "output_type": "execute_result",
          "data": {
            "text/plain": [
              "array([[3, 2, 1],\n",
              "       [6, 5, 4],\n",
              "       [9, 8, 7]])"
            ]
          },
          "metadata": {},
          "execution_count": 22
        }
      ]
    },
    {
      "cell_type": "code",
      "source": [
        "B = np.array([[1, 7, 4],\n",
        "             [4, 8, 6],\n",
        "             [0, 8, 1]])\n",
        "A = np.array([[1, 2, 3],\n",
        "             [4, 5, 6],\n",
        "             [7, 8, 9]])"
      ],
      "metadata": {
        "id": "ZwtmeJcxxJEZ"
      },
      "execution_count": 23,
      "outputs": []
    },
    {
      "cell_type": "code",
      "source": [
        "#mnozenie elementow macierzy\n",
        "print(A*B)"
      ],
      "metadata": {
        "colab": {
          "base_uri": "https://localhost:8080/"
        },
        "id": "VCQ2HZOfxJA2",
        "outputId": "6613131e-69b4-4541-ea60-a425c78a39fb"
      },
      "execution_count": 24,
      "outputs": [
        {
          "output_type": "stream",
          "name": "stdout",
          "text": [
            "[[ 1 14 12]\n",
            " [16 40 36]\n",
            " [ 0 64  9]]\n"
          ]
        }
      ]
    },
    {
      "cell_type": "code",
      "source": [
        "#mnozenie macierzy\n",
        "C = np.dot(A, B)\n",
        "C"
      ],
      "metadata": {
        "colab": {
          "base_uri": "https://localhost:8080/"
        },
        "id": "s9iZanfoxI-X",
        "outputId": "8fa4bb10-270d-40c8-ddf0-2e25495a4026"
      },
      "execution_count": 25,
      "outputs": [
        {
          "output_type": "execute_result",
          "data": {
            "text/plain": [
              "array([[  9,  47,  19],\n",
              "       [ 24, 116,  52],\n",
              "       [ 39, 185,  85]])"
            ]
          },
          "metadata": {},
          "execution_count": 25
        }
      ]
    },
    {
      "cell_type": "code",
      "source": [
        "#mnozenie macierzy\n",
        "K = C@B\n",
        "K"
      ],
      "metadata": {
        "colab": {
          "base_uri": "https://localhost:8080/"
        },
        "id": "4USDIvQSxI7O",
        "outputId": "42b2d7da-e53c-45f3-ec68-e63d19d8910e"
      },
      "execution_count": 26,
      "outputs": [
        {
          "output_type": "execute_result",
          "data": {
            "text/plain": [
              "array([[ 197,  591,  337],\n",
              "       [ 488, 1512,  844],\n",
              "       [ 779, 2433, 1351]])"
            ]
          },
          "metadata": {},
          "execution_count": 26
        }
      ]
    },
    {
      "cell_type": "code",
      "source": [
        "\n",
        "y_for = []\n",
        "for x_for in np.arange(1, 10.01, 0.01):\n",
        "  y_for.append(np.sin(x_for))"
      ],
      "metadata": {
        "id": "ZcAt7jlIxI5H"
      },
      "execution_count": 30,
      "outputs": []
    },
    {
      "cell_type": "code",
      "source": [
        "\n",
        "x_vec = np.arange(1, 10.01, 0.01)\n",
        "y_vec = np.sin(x_vec)"
      ],
      "metadata": {
        "id": "QJxYp_coyjGH"
      },
      "execution_count": 29,
      "outputs": []
    },
    {
      "cell_type": "markdown",
      "source": [
        "**Task 1.1**\n",
        "\n",
        "Calculate the value of \\( a \\) for \\( a = 1 \\cdot e^{-\\frac{15-a}{2}} \\). Display the result using different formats for displaying results in Python."
      ],
      "metadata": {
        "id": "FHmUKyfi0l11"
      }
    },
    {
      "cell_type": "code",
      "source": [
        "#1\n",
        "def f(x):\n",
        "  return 1.0 / np.exp(-(-15 - x) / 2)"
      ],
      "metadata": {
        "id": "as9igf4czD-H"
      },
      "execution_count": 32,
      "outputs": []
    },
    {
      "cell_type": "code",
      "source": [
        "x_value = 5\n",
        "f_x = f(x_value)"
      ],
      "metadata": {
        "id": "yEuEDUNEzD8a"
      },
      "execution_count": 33,
      "outputs": []
    },
    {
      "cell_type": "code",
      "source": [
        "result_default = f\"{f_x}\"\n",
        "result_default"
      ],
      "metadata": {
        "colab": {
          "base_uri": "https://localhost:8080/",
          "height": 35
        },
        "id": "kJk4f7AbzD6m",
        "outputId": "2cb26383-dec5-4f30-ce82-9179f7429751"
      },
      "execution_count": 34,
      "outputs": [
        {
          "output_type": "execute_result",
          "data": {
            "text/plain": [
              "'4.539992976248485e-05'"
            ],
            "application/vnd.google.colaboratory.intrinsic+json": {
              "type": "string"
            }
          },
          "metadata": {},
          "execution_count": 34
        }
      ]
    },
    {
      "cell_type": "code",
      "source": [
        "result_scientific = f\"{f_x:.10e}\"\n",
        "result_scientific"
      ],
      "metadata": {
        "colab": {
          "base_uri": "https://localhost:8080/",
          "height": 35
        },
        "id": "fUiZ2MEDzD43",
        "outputId": "fb85a2c0-dd35-40d0-ff7e-4f56627b9c3f"
      },
      "execution_count": 35,
      "outputs": [
        {
          "output_type": "execute_result",
          "data": {
            "text/plain": [
              "'4.5399929762e-05'"
            ],
            "application/vnd.google.colaboratory.intrinsic+json": {
              "type": "string"
            }
          },
          "metadata": {},
          "execution_count": 35
        }
      ]
    },
    {
      "cell_type": "code",
      "source": [
        "result_1 = f\"{f_x:.2f}\"\n",
        "result_1"
      ],
      "metadata": {
        "colab": {
          "base_uri": "https://localhost:8080/",
          "height": 35
        },
        "id": "XMgoFAdYzD2_",
        "outputId": "b050fe42-aec7-4a4c-a1e9-619558f5eefe"
      },
      "execution_count": 36,
      "outputs": [
        {
          "output_type": "execute_result",
          "data": {
            "text/plain": [
              "'0.00'"
            ],
            "application/vnd.google.colaboratory.intrinsic+json": {
              "type": "string"
            }
          },
          "metadata": {},
          "execution_count": 36
        }
      ]
    },
    {
      "cell_type": "code",
      "source": [
        "result_2 = f\"{f_x:.6f}\"\n",
        "result_2"
      ],
      "metadata": {
        "colab": {
          "base_uri": "https://localhost:8080/",
          "height": 35
        },
        "id": "oT0cKdx2zD1H",
        "outputId": "aedcfec0-8f46-4a7d-ece4-e3c54f572d0c"
      },
      "execution_count": 37,
      "outputs": [
        {
          "output_type": "execute_result",
          "data": {
            "text/plain": [
              "'0.000045'"
            ],
            "application/vnd.google.colaboratory.intrinsic+json": {
              "type": "string"
            }
          },
          "metadata": {},
          "execution_count": 37
        }
      ]
    },
    {
      "cell_type": "markdown",
      "source": [
        "**Task 1.2**\n",
        "\n",
        "Write a Python program using NumPy to calculate the sum of odd numbers from zero to one hundred."
      ],
      "metadata": {
        "id": "QoEg-iqB0vPH"
      }
    },
    {
      "cell_type": "code",
      "source": [
        "#2\n",
        "numbers = np.arange(0, 101)\n",
        "numbers"
      ],
      "metadata": {
        "colab": {
          "base_uri": "https://localhost:8080/"
        },
        "id": "TmjGCRTKzDzY",
        "outputId": "8ab100db-0e3c-42cc-ad22-22f8228f4806"
      },
      "execution_count": 38,
      "outputs": [
        {
          "output_type": "execute_result",
          "data": {
            "text/plain": [
              "array([  0,   1,   2,   3,   4,   5,   6,   7,   8,   9,  10,  11,  12,\n",
              "        13,  14,  15,  16,  17,  18,  19,  20,  21,  22,  23,  24,  25,\n",
              "        26,  27,  28,  29,  30,  31,  32,  33,  34,  35,  36,  37,  38,\n",
              "        39,  40,  41,  42,  43,  44,  45,  46,  47,  48,  49,  50,  51,\n",
              "        52,  53,  54,  55,  56,  57,  58,  59,  60,  61,  62,  63,  64,\n",
              "        65,  66,  67,  68,  69,  70,  71,  72,  73,  74,  75,  76,  77,\n",
              "        78,  79,  80,  81,  82,  83,  84,  85,  86,  87,  88,  89,  90,\n",
              "        91,  92,  93,  94,  95,  96,  97,  98,  99, 100])"
            ]
          },
          "metadata": {},
          "execution_count": 38
        }
      ]
    },
    {
      "cell_type": "code",
      "source": [
        "odd_numbers = numbers[numbers % 2 != 0]\n",
        "odd_numbers"
      ],
      "metadata": {
        "colab": {
          "base_uri": "https://localhost:8080/"
        },
        "id": "IY2uYRFl0Mh_",
        "outputId": "abff64ad-fd92-4386-c6c1-29bccd543391"
      },
      "execution_count": 39,
      "outputs": [
        {
          "output_type": "execute_result",
          "data": {
            "text/plain": [
              "array([ 1,  3,  5,  7,  9, 11, 13, 15, 17, 19, 21, 23, 25, 27, 29, 31, 33,\n",
              "       35, 37, 39, 41, 43, 45, 47, 49, 51, 53, 55, 57, 59, 61, 63, 65, 67,\n",
              "       69, 71, 73, 75, 77, 79, 81, 83, 85, 87, 89, 91, 93, 95, 97, 99])"
            ]
          },
          "metadata": {},
          "execution_count": 39
        }
      ]
    },
    {
      "cell_type": "code",
      "source": [
        "sum_odd_numbers = np.sum(odd_numbers)\n",
        "sum_odd_numbers"
      ],
      "metadata": {
        "colab": {
          "base_uri": "https://localhost:8080/"
        },
        "id": "w4tYvOwA0Mf_",
        "outputId": "d71d6b1d-732d-4608-a03e-95a3aadb3f3e"
      },
      "execution_count": 40,
      "outputs": [
        {
          "output_type": "execute_result",
          "data": {
            "text/plain": [
              "2500"
            ]
          },
          "metadata": {},
          "execution_count": 40
        }
      ]
    },
    {
      "cell_type": "markdown",
      "source": [
        "**Task 1.3**\n",
        "\n",
        "Plot the graph of the function \\( y = \\frac{\\sin(x^2)}{2} \\) for the argument range from 0 to 100 using Matplotlib."
      ],
      "metadata": {
        "id": "TfZ9Jp8401-3"
      }
    },
    {
      "cell_type": "code",
      "source": [
        "#3\n",
        "import matplotlib.pyplot as plt\n"
      ],
      "metadata": {
        "id": "QN-5DRDD0MeX"
      },
      "execution_count": 41,
      "outputs": []
    },
    {
      "cell_type": "code",
      "source": [
        "def y(x):\n",
        "  return np.sin((x**2)/2)"
      ],
      "metadata": {
        "id": "n_B5ZKvm0Mch"
      },
      "execution_count": 42,
      "outputs": []
    },
    {
      "cell_type": "code",
      "source": [
        "x_values = np.linspace(0, 100, 10)\n",
        "y_values = y(x_values)"
      ],
      "metadata": {
        "id": "tdLTWDic0Ma5"
      },
      "execution_count": 44,
      "outputs": []
    },
    {
      "cell_type": "code",
      "source": [
        "plt.plot(x_values, y_values)\n",
        "plt.show()\n"
      ],
      "metadata": {
        "colab": {
          "base_uri": "https://localhost:8080/",
          "height": 430
        },
        "id": "T_pGtdh01L_I",
        "outputId": "2e9d82bc-3fd0-4a77-8c5c-ba6abb2fee3f"
      },
      "execution_count": 45,
      "outputs": [
        {
          "output_type": "display_data",
          "data": {
            "text/plain": [
              "<Figure size 640x480 with 1 Axes>"
            ],
            "image/png": "[encoded data removed]"
          },
          "metadata": {}
        }
      ]
    },
    {
      "cell_type": "code",
      "source": [
        "plt.figure(figsize=(10, 6))\n",
        "plt.plot(x_values, y_values, label=r'$y = \\frac{\\sin(x^2)}{2}$')\n",
        "plt.title('$y = \\\\frac{\\\\sin(x^2)}{2}$')\n",
        "plt.xlabel('x')\n",
        "plt.ylabel('y')\n",
        "\n",
        "plt.grid(True)\n",
        "plt.show()\n"
      ],
      "metadata": {
        "colab": {
          "base_uri": "https://localhost:8080/",
          "height": 574
        },
        "id": "kD2Q2EQ71VpY",
        "outputId": "24b1c675-4d99-49f0-dcfd-6e003a367f80"
      },
      "execution_count": 46,
      "outputs": [
        {
          "output_type": "display_data",
          "data": {
            "text/plain": [
              "<Figure size 1000x600 with 1 Axes>"
            ],
            "image/png": "[encoded data removed]"
          },
          "metadata": {}
        }
      ]
    },
    {
      "cell_type": "markdown",
      "source": [
        "**Task 1.7**\n",
        "\n",
        "Write a Python script that performs the following operations on matrices using NumPy:\n",
        "\n",
        "a) Create a 10 × 20 matrix (10 rows and 20 columns), where the elements in the first five rows have the value 1, and in the next five rows have the value 3;\n",
        "\n",
        "b) Change the values of the matrix elements from rows 6 to 8 and columns 12 to 14 to 25;\n",
        "\n",
        "c) Change the values of the matrix elements from rows 8 to 10 and columns 2 to 5 to the square of the respective element's value."
      ],
      "metadata": {
        "id": "SPwa5G-B1LEo"
      }
    },
    {
      "cell_type": "code",
      "source": [
        "#7\n",
        "M = np.ones ([10, 20]) * 1\n",
        "M[5:10, :] = 3\n",
        "M"
      ],
      "metadata": {
        "id": "2MwC6lN724EX",
        "colab": {
          "base_uri": "https://localhost:8080/"
        },
        "outputId": "f5f03cbf-6485-4dc5-8d15-31521cf6db01"
      },
      "execution_count": 47,
      "outputs": [
        {
          "output_type": "execute_result",
          "data": {
            "text/plain": [
              "array([[1., 1., 1., 1., 1., 1., 1., 1., 1., 1., 1., 1., 1., 1., 1., 1.,\n",
              "        1., 1., 1., 1.],\n",
              "       [1., 1., 1., 1., 1., 1., 1., 1., 1., 1., 1., 1., 1., 1., 1., 1.,\n",
              "        1., 1., 1., 1.],\n",
              "       [1., 1., 1., 1., 1., 1., 1., 1., 1., 1., 1., 1., 1., 1., 1., 1.,\n",
              "        1., 1., 1., 1.],\n",
              "       [1., 1., 1., 1., 1., 1., 1., 1., 1., 1., 1., 1., 1., 1., 1., 1.,\n",
              "        1., 1., 1., 1.],\n",
              "       [1., 1., 1., 1., 1., 1., 1., 1., 1., 1., 1., 1., 1., 1., 1., 1.,\n",
              "        1., 1., 1., 1.],\n",
              "       [3., 3., 3., 3., 3., 3., 3., 3., 3., 3., 3., 3., 3., 3., 3., 3.,\n",
              "        3., 3., 3., 3.],\n",
              "       [3., 3., 3., 3., 3., 3., 3., 3., 3., 3., 3., 3., 3., 3., 3., 3.,\n",
              "        3., 3., 3., 3.],\n",
              "       [3., 3., 3., 3., 3., 3., 3., 3., 3., 3., 3., 3., 3., 3., 3., 3.,\n",
              "        3., 3., 3., 3.],\n",
              "       [3., 3., 3., 3., 3., 3., 3., 3., 3., 3., 3., 3., 3., 3., 3., 3.,\n",
              "        3., 3., 3., 3.],\n",
              "       [3., 3., 3., 3., 3., 3., 3., 3., 3., 3., 3., 3., 3., 3., 3., 3.,\n",
              "        3., 3., 3., 3.]])"
            ]
          },
          "metadata": {},
          "execution_count": 47
        }
      ]
    },
    {
      "cell_type": "code",
      "source": [
        "M[5:8, 11:14] = 25\n",
        "M"
      ],
      "metadata": {
        "colab": {
          "base_uri": "https://localhost:8080/"
        },
        "id": "cJ96ba3345qR",
        "outputId": "d462c944-8340-4863-8df4-deff3cce9c09"
      },
      "execution_count": 48,
      "outputs": [
        {
          "output_type": "execute_result",
          "data": {
            "text/plain": [
              "array([[ 1.,  1.,  1.,  1.,  1.,  1.,  1.,  1.,  1.,  1.,  1.,  1.,  1.,\n",
              "         1.,  1.,  1.,  1.,  1.,  1.,  1.],\n",
              "       [ 1.,  1.,  1.,  1.,  1.,  1.,  1.,  1.,  1.,  1.,  1.,  1.,  1.,\n",
              "         1.,  1.,  1.,  1.,  1.,  1.,  1.],\n",
              "       [ 1.,  1.,  1.,  1.,  1.,  1.,  1.,  1.,  1.,  1.,  1.,  1.,  1.,\n",
              "         1.,  1.,  1.,  1.,  1.,  1.,  1.],\n",
              "       [ 1.,  1.,  1.,  1.,  1.,  1.,  1.,  1.,  1.,  1.,  1.,  1.,  1.,\n",
              "         1.,  1.,  1.,  1.,  1.,  1.,  1.],\n",
              "       [ 1.,  1.,  1.,  1.,  1.,  1.,  1.,  1.,  1.,  1.,  1.,  1.,  1.,\n",
              "         1.,  1.,  1.,  1.,  1.,  1.,  1.],\n",
              "       [ 3.,  3.,  3.,  3.,  3.,  3.,  3.,  3.,  3.,  3.,  3., 25., 25.,\n",
              "        25.,  3.,  3.,  3.,  3.,  3.,  3.],\n",
              "       [ 3.,  3.,  3.,  3.,  3.,  3.,  3.,  3.,  3.,  3.,  3., 25., 25.,\n",
              "        25.,  3.,  3.,  3.,  3.,  3.,  3.],\n",
              "       [ 3.,  3.,  3.,  3.,  3.,  3.,  3.,  3.,  3.,  3.,  3., 25., 25.,\n",
              "        25.,  3.,  3.,  3.,  3.,  3.,  3.],\n",
              "       [ 3.,  3.,  3.,  3.,  3.,  3.,  3.,  3.,  3.,  3.,  3.,  3.,  3.,\n",
              "         3.,  3.,  3.,  3.,  3.,  3.,  3.],\n",
              "       [ 3.,  3.,  3.,  3.,  3.,  3.,  3.,  3.,  3.,  3.,  3.,  3.,  3.,\n",
              "         3.,  3.,  3.,  3.,  3.,  3.,  3.]])"
            ]
          },
          "metadata": {},
          "execution_count": 48
        }
      ]
    },
    {
      "cell_type": "code",
      "source": [
        "M[7:10, 1:5] = np.square(M[7:10, 1:5])\n",
        "M"
      ],
      "metadata": {
        "colab": {
          "base_uri": "https://localhost:8080/"
        },
        "id": "VdWAZv_O45oi",
        "outputId": "2cb1bc2d-77fe-435e-837b-c460240bc0ac"
      },
      "execution_count": 49,
      "outputs": [
        {
          "output_type": "execute_result",
          "data": {
            "text/plain": [
              "array([[ 1.,  1.,  1.,  1.,  1.,  1.,  1.,  1.,  1.,  1.,  1.,  1.,  1.,\n",
              "         1.,  1.,  1.,  1.,  1.,  1.,  1.],\n",
              "       [ 1.,  1.,  1.,  1.,  1.,  1.,  1.,  1.,  1.,  1.,  1.,  1.,  1.,\n",
              "         1.,  1.,  1.,  1.,  1.,  1.,  1.],\n",
              "       [ 1.,  1.,  1.,  1.,  1.,  1.,  1.,  1.,  1.,  1.,  1.,  1.,  1.,\n",
              "         1.,  1.,  1.,  1.,  1.,  1.,  1.],\n",
              "       [ 1.,  1.,  1.,  1.,  1.,  1.,  1.,  1.,  1.,  1.,  1.,  1.,  1.,\n",
              "         1.,  1.,  1.,  1.,  1.,  1.,  1.],\n",
              "       [ 1.,  1.,  1.,  1.,  1.,  1.,  1.,  1.,  1.,  1.,  1.,  1.,  1.,\n",
              "         1.,  1.,  1.,  1.,  1.,  1.,  1.],\n",
              "       [ 3.,  3.,  3.,  3.,  3.,  3.,  3.,  3.,  3.,  3.,  3., 25., 25.,\n",
              "        25.,  3.,  3.,  3.,  3.,  3.,  3.],\n",
              "       [ 3.,  3.,  3.,  3.,  3.,  3.,  3.,  3.,  3.,  3.,  3., 25., 25.,\n",
              "        25.,  3.,  3.,  3.,  3.,  3.,  3.],\n",
              "       [ 3.,  9.,  9.,  9.,  9.,  3.,  3.,  3.,  3.,  3.,  3., 25., 25.,\n",
              "        25.,  3.,  3.,  3.,  3.,  3.,  3.],\n",
              "       [ 3.,  9.,  9.,  9.,  9.,  3.,  3.,  3.,  3.,  3.,  3.,  3.,  3.,\n",
              "         3.,  3.,  3.,  3.,  3.,  3.,  3.],\n",
              "       [ 3.,  9.,  9.,  9.,  9.,  3.,  3.,  3.,  3.,  3.,  3.,  3.,  3.,\n",
              "         3.,  3.,  3.,  3.,  3.,  3.,  3.]])"
            ]
          },
          "metadata": {},
          "execution_count": 49
        }
      ]
    },
    {
      "cell_type": "code",
      "source": [
        "import time"
      ],
      "metadata": {
        "id": "hbkaylzc45mc"
      },
      "execution_count": 50,
      "outputs": []
    },
    {
      "cell_type": "code",
      "source": [
        "def matrix_multiply_interative(A, B):\n",
        "  rows_A, cols_A = A.shape\n",
        "  rows_B, cols_B = B.shape\n",
        "\n",
        "  C = np.zeros([rows_A, cols_B])\n",
        "\n",
        "  if cols_A != rows_B:\n",
        "    print(\"Incompatible matrix dimensions\")\n",
        "    return None\n",
        "\n",
        "  for i in range(rows_A):\n",
        "    for j in range(cols_B):\n",
        "      for k in range(cols_A):\n",
        "        C[i, j] += A[i, k] * B[k, j]\n",
        "  return C\n",
        "\n"
      ],
      "metadata": {
        "id": "09lihinp45ip"
      },
      "execution_count": 52,
      "outputs": []
    },
    {
      "cell_type": "code",
      "source": [
        "def matrix_multiply_vectorized(A, B):\n",
        "  return np.dot(A, B)"
      ],
      "metadata": {
        "id": "XsaGdIRs7gbv"
      },
      "execution_count": 53,
      "outputs": []
    },
    {
      "cell_type": "code",
      "source": [
        "A = np.random.rand(500, 200)\n",
        "B = np.random.rand(200, 500)"
      ],
      "metadata": {
        "id": "u4bj2Kgq7qXm"
      },
      "execution_count": 54,
      "outputs": []
    },
    {
      "cell_type": "code",
      "source": [
        "start_time = time.time()\n",
        "matrix_multiply_interative(A, B)\n",
        "end_time = time.time()\n",
        "time1 = end_time - start_time\n",
        "print(f\"Completion time: {time1} s\")"
      ],
      "metadata": {
        "colab": {
          "base_uri": "https://localhost:8080/"
        },
        "id": "rzEQ3bJN45kZ",
        "outputId": "97c5061d-49f4-40e9-814f-ea628b928174"
      },
      "execution_count": 55,
      "outputs": [
        {
          "output_type": "stream",
          "name": "stdout",
          "text": [
            "Completion time: 39.31860327720642 s\n"
          ]
        }
      ]
    },
    {
      "cell_type": "code",
      "source": [
        "start_time = time.time()\n",
        "matrix_multiply_vectorized(A, B)\n",
        "end_time = time.time()\n",
        "time2 = end_time - start_time\n",
        "print(f\"Completion time: {time2} s\")"
      ],
      "metadata": {
        "colab": {
          "base_uri": "https://localhost:8080/"
        },
        "id": "yspu7Bm345gi",
        "outputId": "888df5b0-a428-4974-d621-873a8727cb6d"
      },
      "execution_count": 56,
      "outputs": [
        {
          "output_type": "stream",
          "name": "stdout",
          "text": [
            "Completion time: 0.007226705551147461 s\n"
          ]
        }
      ]
    },
    {
      "cell_type": "markdown",
      "source": [
        "**Task 1.10**\n",
        "\n",
        "Using your own implementation of the arcsine function in Python, write a program that calculates the first ten digits of the expansion of π using John Machin's formula."
      ],
      "metadata": {
        "id": "lqiw6Q-I1Zqu"
      }
    },
    {
      "cell_type": "code",
      "source": [
        "#10\n",
        "np.pi"
      ],
      "metadata": {
        "colab": {
          "base_uri": "https://localhost:8080/"
        },
        "id": "Oo4QHtII9WEr",
        "outputId": "e0a120d4-fbd0-4fec-cfe3-af5a5948511a"
      },
      "execution_count": 57,
      "outputs": [
        {
          "output_type": "execute_result",
          "data": {
            "text/plain": [
              "3.141592653589793"
            ]
          },
          "metadata": {},
          "execution_count": 57
        }
      ]
    },
    {
      "cell_type": "code",
      "source": [
        "4*np.arctan(1)"
      ],
      "metadata": {
        "colab": {
          "base_uri": "https://localhost:8080/"
        },
        "id": "hqADthA59WCU",
        "outputId": "d8d0308b-685c-4f37-a2aa-b03f529997c8"
      },
      "execution_count": 58,
      "outputs": [
        {
          "output_type": "execute_result",
          "data": {
            "text/plain": [
              "3.141592653589793"
            ]
          },
          "metadata": {},
          "execution_count": 58
        }
      ]
    },
    {
      "cell_type": "code",
      "source": [
        "def arct(x, n):\n",
        "  y = 0\n",
        "  for i in range(n):\n",
        "    y += ((-1)**i * x**(2*i+1)) / (2*i + 1)\n",
        "  return y"
      ],
      "metadata": {
        "id": "gc25oDXp9_Wt"
      },
      "execution_count": 59,
      "outputs": []
    },
    {
      "cell_type": "code",
      "source": [
        "def machine_pi(n):\n",
        "  return 4*(4*arct(1/5,n) - arct(1/239,n))"
      ],
      "metadata": {
        "id": "Ba8dR88V9V8U"
      },
      "execution_count": 60,
      "outputs": []
    },
    {
      "cell_type": "code",
      "source": [
        "arct(1/5,10)"
      ],
      "metadata": {
        "colab": {
          "base_uri": "https://localhost:8080/"
        },
        "id": "x0Pdh_xt-ihc",
        "outputId": "5305c6aa-4dd9-47dc-9617-3a5b5bf56a55"
      },
      "execution_count": 61,
      "outputs": [
        {
          "output_type": "execute_result",
          "data": {
            "text/plain": [
              "0.1973955598498807"
            ]
          },
          "metadata": {},
          "execution_count": 61
        }
      ]
    },
    {
      "cell_type": "code",
      "source": [
        "machine_pi(3)"
      ],
      "metadata": {
        "colab": {
          "base_uri": "https://localhost:8080/"
        },
        "id": "Mqn9TReY-iV1",
        "outputId": "df9bc8ea-66a3-49ae-a8f2-8bab01cbf209"
      },
      "execution_count": 62,
      "outputs": [
        {
          "output_type": "execute_result",
          "data": {
            "text/plain": [
              "3.1416210293250346"
            ]
          },
          "metadata": {},
          "execution_count": 62
        }
      ]
    }
  ]
}